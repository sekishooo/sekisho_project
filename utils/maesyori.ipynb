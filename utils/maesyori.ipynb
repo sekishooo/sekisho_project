{
 "cells": [
  {
   "cell_type": "code",
   "execution_count": 3,
   "metadata": {
    "collapsed": false
   },
   "outputs": [
    {
     "name": "stdout",
     "output_type": "stream",
     "text": [
      "JPEG (728, 600) RGB\n",
      "None (256, 256) RGB\n"
     ]
    }
   ],
   "source": [
    "# !pip install tensorflow\n",
    "# from PIL import Image\n",
    "\n",
    "# img = Image.open('C:/Users/関祥真/Pictures/wikiArt/rensyu/4_landscape-with-st-jerome.jpg!Large.jpg')\n",
    "\n",
    "# print(img.format, img.size, img.mode)\n",
    "# # JPEG (512, 512) RGB\n",
    "\n",
    "# img_resize = img.resize((256, 256))\n",
    "# print(img_resize.format, img_resize.size, img_resize.mode)\n",
    "\n",
    "# img_resize.show()"
   ]
  },
  {
   "cell_type": "code",
   "execution_count": 41,
   "metadata": {
    "collapsed": false
   },
   "outputs": [],
   "source": [
    "import os\n",
    "import glob\n",
    "from PIL import Image\n",
    "\n",
    "#files = glob.glob('C:/Users/関祥真/Pictures/wikiArt/rensyu/*.jpg')\n",
    "#print(files)\n",
    "#for f in files:\n",
    "#    ftitle, fext = os.path.splitext(f)\n",
    "#    os.rename(f, ftitle + '_img' + fext)\n",
    "\n",
    "tag = \"mountains_selection\"\n",
    "files = glob.glob('C:/Users/関祥真/Pictures/wikiArt/' + tag + '/*.jpg')\n",
    "for f in files:\n",
    "    #print(f)\n",
    "    img = Image.open(f)\n",
    "    img_resize = img.resize((256, 256))\n",
    "    ftitle, fext = os.path.splitext(f)\n",
    "    ftitle1, ftitle2 = ftitle.split(\"C:/Users/関祥真/Pictures/wikiArt/\"+tag)\n",
    "    ftitle = \"C:/Users/関祥真/Pictures/wikiArt/rensyu2\" + ftitle2\n",
    "    img_resize.save(ftitle + '_resize' + fext)"
   ]
  }
 ],
 "metadata": {
  "kernelspec": {
   "display_name": "Python 3",
   "language": "python",
   "name": "python3"
  },
  "language_info": {
   "codemirror_mode": {
    "name": "ipython",
    "version": 3
   },
   "file_extension": ".py",
   "mimetype": "text/x-python",
   "name": "python",
   "nbconvert_exporter": "python",
   "pygments_lexer": "ipython3",
   "version": "3.6.0"
  }
 },
 "nbformat": 4,
 "nbformat_minor": 2
}
